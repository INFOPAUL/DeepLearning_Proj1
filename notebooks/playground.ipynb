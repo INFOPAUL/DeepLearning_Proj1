{
 "cells": [
  {
   "cell_type": "code",
   "execution_count": 1,
   "metadata": {},
   "outputs": [],
   "source": [
    "import sys\n",
    "sys.path.append(\"..\")\n",
    "import torch\n",
    "from datetime import datetime\n",
    "import pandas as pd\n",
    "import matplotlib.pyplot as plt\n",
    "import seaborn as sns; sns.set(style=\"whitegrid\", color_codes=True)\n",
    "import train\n",
    "import train_model_no_WS\n",
    "from helpers.train_helpers import get_dataset, get_device, accuracy\n",
    "\n",
    "%matplotlib inline"
   ]
  },
  {
   "cell_type": "code",
   "execution_count": 2,
   "metadata": {},
   "outputs": [
    {
     "data": {
      "text/plain": [
       "Reusing TensorBoard on port 6006 (pid 27358), started 4:48:48 ago. (Use '!kill 27358' to kill it.)"
      ]
     },
     "metadata": {},
     "output_type": "display_data"
    },
    {
     "data": {
      "text/html": [
       "\n",
       "      <iframe id=\"tensorboard-frame-753cdae8c41f1419\" width=\"100%\" height=\"800\" frameborder=\"0\">\n",
       "      </iframe>\n",
       "      <script>\n",
       "        (function() {\n",
       "          const frame = document.getElementById(\"tensorboard-frame-753cdae8c41f1419\");\n",
       "          const url = new URL(\"/\", window.location);\n",
       "          url.port = 6006;\n",
       "          frame.src = url;\n",
       "        })();\n",
       "      </script>\n",
       "  "
      ],
      "text/plain": [
       "<IPython.core.display.HTML object>"
      ]
     },
     "metadata": {},
     "output_type": "display_data"
    }
   ],
   "source": [
    "%load_ext tensorboard\n",
    "%tensorboard --logdir ./logs\n",
    "\n",
    "config_model_no_WS = dict(\n",
    "    logs_dir=f'./logs/no_ws/{datetime.now().strftime(\"%Y%m%d_%H%M%S\")}',\n",
    "    optimizer='Adam',\n",
    "    optimizer_learning_rate=0.001,\n",
    "    batch_size=128,\n",
    "    num_epochs=80,  # 250\n",
    "    model='simple_conv',\n",
    "    class_num=10,\n",
    "    channels_in=1,\n",
    "    augmentation=False,\n",
    "    verbose=0\n",
    ")\n",
    "\n",
    "model = train_model_no_WS.train(config_model_no_WS)"
   ]
  },
  {
   "cell_type": "code",
   "execution_count": 3,
   "metadata": {},
   "outputs": [],
   "source": [
    "config = dict(batch_size=1, augmentation=False)\n",
    "training_loader, test_loader = get_dataset(config)\n",
    "device = get_device()\n",
    "criterion = torch.nn.CrossEntropyLoss()"
   ]
  },
  {
   "cell_type": "code",
   "execution_count": 14,
   "metadata": {},
   "outputs": [
    {
     "name": "stdout",
     "output_type": "stream",
     "text": [
      "tensor([1], device='cuda:0')\n",
      "tensor([9], device='cuda:0')\n",
      "tensor([1])\n",
      "tensor([[ -0.5814,  14.6352,  -9.5046,  -5.3171,  -0.8414,  -1.4323,  -2.9815,\n",
      "         -11.1554,   7.7038,  -0.9001]], device='cuda:0',\n",
      "       grad_fn=<AddmmBackward>)\n",
      "tensor([[ -3.5137, -26.8082, -14.8773,   2.0239,  10.7815,  -2.5424, -10.6222,\n",
      "          -1.1454,   6.5301,  26.8084]], device='cuda:0',\n",
      "       grad_fn=<AddmmBackward>)\n",
      "loss= tensor(0.0005, device='cuda:0', grad_fn=<DivBackward0>)\n",
      "acc= tensor(1., device='cuda:0')\n"
     ]
    }
   ],
   "source": [
    "for batch_x, batch_y, batch_classes in test_loader:\n",
    "\n",
    "    batch_x_1 = batch_x[:, 0, :, :].view(-1, 1, batch_x.size(2), batch_x.size(3)).to(device)\n",
    "    batch_x_2 = batch_x[:, 1, :, :].view(-1, 1, batch_x.size(2), batch_x.size(3)).to(device)\n",
    "\n",
    "    batch_classes_1 = batch_classes[:, 0].to(device)\n",
    "    batch_classes_2 = batch_classes[:, 1].to(device)\n",
    "    print(batch_classes_1)\n",
    "    print(batch_classes_2)\n",
    "\n",
    "    print(batch_y)\n",
    "    batch_y = batch_y.to(device)\n",
    "\n",
    "    prediction_1 = model(batch_x_1)\n",
    "    prediction_2 = model(batch_x_2)\n",
    "    print(prediction_1)\n",
    "    print(prediction_2)\n",
    "    loss = (criterion(prediction_1, batch_classes_1) + criterion(prediction_2, batch_classes_2)) / 2\n",
    "    print(\"loss=\", loss)\n",
    "    acc = accuracy(prediction_1.argmax(1) <= prediction_2.argmax(1), batch_y, argmax=False)\n",
    "    print(\"acc=\", acc)\n",
    "    break"
   ]
  },
  {
   "cell_type": "code",
   "execution_count": null,
   "metadata": {},
   "outputs": [],
   "source": []
  }
 ],
 "metadata": {
  "kernelspec": {
   "display_name": "Python 3",
   "language": "python",
   "name": "python3"
  },
  "language_info": {
   "codemirror_mode": {
    "name": "ipython",
    "version": 3
   },
   "file_extension": ".py",
   "mimetype": "text/x-python",
   "name": "python",
   "nbconvert_exporter": "python",
   "pygments_lexer": "ipython3",
   "version": "3.7.6"
  }
 },
 "nbformat": 4,
 "nbformat_minor": 2
}
